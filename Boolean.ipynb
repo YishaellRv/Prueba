{
 "cells": [
  {
   "cell_type": "code",
   "execution_count": 7,
   "metadata": {},
   "outputs": [],
   "source": [
    "# Tip de práctica 1: Intenta ejecutarlo en un notebook.\n",
    "a = 97\n",
    "b = 55\n",
    "# test expression / expresión de prueba\n",
    "if a < b:\n",
    "    # statement to be run / instrucción a ejecutar\n",
    "    print(b)\n",
    "\n",
    "#No se ejecuta nada debido a que \"a\" no es menor que \"b\""
   ]
  },
  {
   "cell_type": "code",
   "execution_count": 24,
   "metadata": {},
   "outputs": [
    {
     "name": "stdout",
     "output_type": "stream",
     "text": [
      "Estamos a salvo\n"
     ]
    }
   ],
   "source": [
    "# Actividad 1 K3\n",
    "\n",
    "VAsteroide = 1\n",
    "if VAsteroide >= 25:\n",
    "    print(\"Se acerca un asteroide a la tierra\")\n",
    "else:\n",
    "    print(\"Estamos a salvo\")"
   ]
  },
  {
   "cell_type": "code",
   "execution_count": 27,
   "metadata": {},
   "outputs": [
    {
     "name": "stdout",
     "output_type": "stream",
     "text": [
      "Se ve la Luz\n"
     ]
    }
   ],
   "source": [
    "#Actividad 2\n",
    "Asteroide = 20\n",
    "\n",
    "if Asteroide >= 20:\n",
    "    print(\"Se ve la Luz\")\n",
    "elif a <= b:\n",
    "    print(\"¡Hay uno que se dirige a la tierra ahora a una velocidad de 19 km/s!\")\n",
    "else:\n",
    "    print(\"Ocultate amiguito\")"
   ]
  },
  {
   "cell_type": "code",
   "execution_count": 15,
   "metadata": {},
   "outputs": [
    {
     "name": "stdout",
     "output_type": "stream",
     "text": [
      "El carro rojo es mas lento que el carro negro\n"
     ]
    }
   ],
   "source": [
    "carro_rojo = 120 \n",
    "carro_negro = 150\n",
    "\n",
    "if carro_rojo <= carro_negro:\n",
    "   print(\"El carro rojo es mas lento que el carro negro\")"
   ]
  },
  {
   "cell_type": "code",
   "execution_count": 16,
   "metadata": {},
   "outputs": [
    {
     "name": "stdout",
     "output_type": "stream",
     "text": [
      "93\n"
     ]
    }
   ],
   "source": [
    "# Aplica el tip de práctica 1.\n",
    "a = 93\n",
    "b = 27\n",
    "if a >= b:\n",
    "    print(a)\n",
    "\n",
    "    #Si \"a\" es mayor o igual a \"b\" muestra \"a\""
   ]
  },
  {
   "cell_type": "code",
   "execution_count": 18,
   "metadata": {},
   "outputs": [],
   "source": [
    "a = 24\n",
    "b = 44\n",
    "if a <= 0:\n",
    "    print(a)\n",
    "print(b)\n",
    "\n",
    "#Siempre se debe colocar la sangria en los IF si no no podra ejecutarse "
   ]
  },
  {
   "cell_type": "code",
   "execution_count": 19,
   "metadata": {},
   "outputs": [
    {
     "name": "stdout",
     "output_type": "stream",
     "text": [
      "93\n"
     ]
    }
   ],
   "source": [
    "a = 93\n",
    "b = 27\n",
    "if a >= b:\n",
    "    print(a)\n",
    "else:\n",
    "    print(b)\n",
    "#Else apoya a imprimir el resultado alternativo si la condicion no cumple"
   ]
  },
  {
   "cell_type": "code",
   "execution_count": 21,
   "metadata": {},
   "outputs": [
    {
     "name": "stdout",
     "output_type": "stream",
     "text": [
      "a es mayor o igual que b\n"
     ]
    }
   ],
   "source": [
    "a = 93\n",
    "b = 93\n",
    "if a >= b:\n",
    "    print(\"a es mayor o igual que b\")\n",
    "elif a == b:\n",
    "    print(\"a es igual que b\")"
   ]
  },
  {
   "cell_type": "code",
   "execution_count": 59,
   "metadata": {},
   "outputs": [
    {
     "name": "stdout",
     "output_type": "stream",
     "text": [
      "Se ve un rayo en el cielo\n"
     ]
    }
   ],
   "source": [
    "#Actividad 3\n",
    "TA = 25\n",
    "VA = 25\n",
    "if TA < 25 and VA < 25:\n",
    "    print(\"El asteroide se quemara\")\n",
    "elif TA >= 25 and TA < 1000 and VA > 25:\n",
    "    print(\"La tierra se destruira\")\n",
    "elif VA >= 20 and VA <= 25 and TA <= 25:\n",
    "    print(\"Se ve un rayo en el cielo\")"
   ]
  }
 ],
 "metadata": {
  "interpreter": {
   "hash": "892a100207ad6c414bb889899cc26cd986ed151374a5fa57c7ac23735bd0379c"
  },
  "kernelspec": {
   "display_name": "Python 3.10.2 64-bit",
   "language": "python",
   "name": "python3"
  },
  "language_info": {
   "codemirror_mode": {
    "name": "ipython",
    "version": 3
   },
   "file_extension": ".py",
   "mimetype": "text/x-python",
   "name": "python",
   "nbconvert_exporter": "python",
   "pygments_lexer": "ipython3",
   "version": "3.10.2"
  },
  "orig_nbformat": 4
 },
 "nbformat": 4,
 "nbformat_minor": 2
}
